{
 "cells": [
  {
   "cell_type": "code",
   "execution_count": null,
   "id": "3b9d7669",
   "metadata": {},
   "outputs": [],
   "source": []
  },
  {
   "cell_type": "code",
   "execution_count": null,
   "id": "001ba80c",
   "metadata": {},
   "outputs": [],
   "source": []
  },
  {
   "cell_type": "code",
   "execution_count": null,
   "id": "dcdcfdeb",
   "metadata": {},
   "outputs": [],
   "source": []
  },
  {
   "cell_type": "code",
   "execution_count": null,
   "id": "e1ede098",
   "metadata": {},
   "outputs": [],
   "source": [
    "Задание 44 |\n",
    "| --- |\n",
    "| В ячейке ниже представлен код генерирующий DataFrame, которая состоит всего из 1 столбца. Ваша задача перевести его в one hot вид. Сможете ли вы это сделать без get_dummies?\n"
   ]
  },
  {
   "cell_type": "code",
   "execution_count": 11,
   "id": "300e2c7b",
   "metadata": {},
   "outputs": [
    {
     "name": "stdout",
     "output_type": "stream",
     "text": [
      "   whoAmI\n",
      "0   human\n",
      "1   human\n",
      "2   robot\n",
      "3   human\n",
      "4   robot\n",
      "5   robot\n",
      "6   robot\n",
      "7   human\n",
      "8   human\n",
      "9   human\n",
      "10  robot\n",
      "11  human\n",
      "12  robot\n",
      "13  robot\n",
      "14  robot\n",
      "15  human\n",
      "16  robot\n",
      "17  human\n",
      "18  human\n",
      "19  robot\n",
      "    human  robot\n",
      "0       1      0\n",
      "1       1      0\n",
      "2       0      1\n",
      "3       1      0\n",
      "4       0      1\n",
      "5       0      1\n",
      "6       0      1\n",
      "7       1      0\n",
      "8       1      0\n",
      "9       1      0\n",
      "10      0      1\n",
      "11      1      0\n",
      "12      0      1\n",
      "13      0      1\n",
      "14      0      1\n",
      "15      1      0\n",
      "16      0      1\n",
      "17      1      0\n",
      "18      1      0\n",
      "19      0      1\n"
     ]
    }
   ],
   "source": [
    "import pandas as pd \n",
    "import numpy as np \n",
    "import random\n",
    " \n",
    "lst = ['robot'] * 10\n",
    "lst += ['human'] * 10\n",
    "random.shuffle(lst)\n",
    "data = pd.DataFrame({'whoAmI': lst})\n",
    "print(data)\n",
    " \n",
    "#==================================================#\n",
    "data['tmp'] = 1\n",
    "data.set_index([data.index, 'whoAmI'], inplace=True)\n",
    "data = data.unstack(level=-1, fill_value = 0).astype(int)\n",
    "data.columns = data.columns.droplevel()\n",
    "data.columns.name = None\n",
    "print(data)"
   ]
  },
  {
   "cell_type": "code",
   "execution_count": null,
   "id": "17ffc09a",
   "metadata": {},
   "outputs": [],
   "source": []
  },
  {
   "cell_type": "code",
   "execution_count": null,
   "id": "d49d42d9",
   "metadata": {},
   "outputs": [],
   "source": []
  }
 ],
 "metadata": {
  "kernelspec": {
   "display_name": "Python 3",
   "language": "python",
   "name": "python3"
  },
  "language_info": {
   "codemirror_mode": {
    "name": "ipython",
    "version": 3
   },
   "file_extension": ".py",
   "mimetype": "text/x-python",
   "name": "python",
   "nbconvert_exporter": "python",
   "pygments_lexer": "ipython3",
   "version": "3.8.8"
  }
 },
 "nbformat": 4,
 "nbformat_minor": 5
}
