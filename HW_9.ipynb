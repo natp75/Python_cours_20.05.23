{
 "cells": [
  {
   "cell_type": "code",
   "execution_count": null,
   "id": "60485e17",
   "metadata": {},
   "outputs": [],
   "source": [
    "#Задание\n",
    "#Задача 40: Работать с файлом california_housing_train.csv, который находится в папке\n",
    "#sample_data. Определить среднюю стоимость дома, где кол-во людей от 0 до 500 (population)\n",
    "\n",
    "\n",
    "\n",
    "df[df['population']<501]['median_house_value'].agg(['mean'])\n",
    "\n"
   ]
  },
  {
   "cell_type": "code",
   "execution_count": null,
   "id": "f2079256",
   "metadata": {},
   "outputs": [],
   "source": [
    "#Вариант 2:\n",
    "\n",
    "df[df['population']<501]['median_house_value'].mean()\n",
    "206799.95140186916"
   ]
  },
  {
   "cell_type": "code",
   "execution_count": null,
   "id": "0d67ff5b",
   "metadata": {},
   "outputs": [],
   "source": [
    "#Задача 42: Узнать какая максимальная households в зоне минимального значения population\n",
    "\n",
    "#Решение:\n",
    "\n",
    "df[df['population']==df['population'].min()]['households'].max()"
   ]
  },
  {
   "cell_type": "code",
   "execution_count": null,
   "id": "42d86104",
   "metadata": {},
   "outputs": [],
   "source": [
    "#Вариант 2:\n",
    "df[df['population']==df['population'].min()]['households'].agg(['max'])"
   ]
  }
 ],
 "metadata": {
  "kernelspec": {
   "display_name": "Python 3",
   "language": "python",
   "name": "python3"
  },
  "language_info": {
   "codemirror_mode": {
    "name": "ipython",
    "version": 3
   },
   "file_extension": ".py",
   "mimetype": "text/x-python",
   "name": "python",
   "nbconvert_exporter": "python",
   "pygments_lexer": "ipython3",
   "version": "3.8.8"
  }
 },
 "nbformat": 4,
 "nbformat_minor": 5
}
